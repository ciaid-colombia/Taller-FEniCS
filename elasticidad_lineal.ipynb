{
 "cells": [
  {
   "cell_type": "markdown",
   "metadata": {},
   "source": [
    "# Ecuación de la elasticidad lineal"
   ]
  },
  {
   "cell_type": "markdown",
   "metadata": {},
   "source": [
    "## Ecuación diferencial parcial\n",
    "\n",
    "Escribimos el problema de deformación elastica de un cuerpo con dominio geométrico $\\Omega$ como\n",
    "\\begin{equation}\n",
    "\\label{ftut-elast-varform-equilibrium}\\tag{1}\n",
    "\\rho \\ddot{\\boldsymbol{u}} + \\rho \\eta \\dot{\\boldsymbol{u}} - \\boldsymbol{\\nabla}\\cdot\\boldsymbol{\\sigma} = \\boldsymbol{f}\\hbox{ in }\\Omega,\n",
    "\\end{equation}\n",
    "\n",
    "definiendo $\\boldsymbol{\\sigma}$ como el *tensor de esfuerzos*, $\\boldsymbol{f}$ como la *fuerza de cuerpo por unidad de volumen* y $\\boldsymbol{u}$ como el *vector de desplazamientos*. Además, las derivadas temporales se denotan aquí con un punto sobre la variable.\n",
    "\n",
    "Restringiendo el problema a materiales isotrópicos, podemos definir el tensor de esfuerzos y su relación con las deformaciones como\n",
    "\\begin{align}\n",
    "\\boldsymbol{\\sigma} &= \\lambda\\,\\hbox{tr}\\,(\\boldsymbol{\\varepsilon}) \\boldsymbol{I} + 2\\mu\\boldsymbol{\\varepsilon},\n",
    "\\label{ftut-elast-varform-stresstrain}\\tag{2}\\\\\n",
    "\\boldsymbol{\\varepsilon} &= \\frac{1}{2}\\left(\\boldsymbol{\\nabla} \\boldsymbol{u} + (\\boldsymbol{\\nabla} \\boldsymbol{u})^{\\top}\\right),\n",
    "\\label{ftut-elast-varform-strainu}\\tag{3}\n",
    "\\end{align}\n",
    "donde $\\boldsymbol{\\varepsilon}$ es el *tensor simetrico de la tasa de deformación*, $\\boldsymbol{I}$ denota el *tensor identidad*, $\\mathrm{tr}$ denota la *traza* en un tensor, $\\lambda$ y $\\mu$ \n",
    "son los *parametros de Lamé* (propiedades del material) y $\\rho$ es la densidad.\n",
    "\n",
    "Si combinamos las ecuaciones (\\ref{ftut-elast-varform-stresstrain}) y\n",
    "(\\ref{ftut-elast-varform-strainu}) podemos escribir el esfuerzo como\n",
    "\\begin{equation}\n",
    "\\label{ftut-elast-varform-stressu}\\tag{4}\n",
    "\\boldsymbol{\\boldsymbol{\\sigma}} = \\lambda(\\boldsymbol{\\nabla}\\cdot \\boldsymbol{u})\\boldsymbol{I} + \\mu(\\boldsymbol{\\nabla} \\boldsymbol{u} + (\\boldsymbol{\\nabla} \\boldsymbol{u})^{\\top})\n",
    "\\end{equation}"
   ]
  },
  {
   "cell_type": "markdown",
   "metadata": {},
   "source": [
    "## Formulación variacional\n",
    "\n",
    "La formulación variacional de ([1](#mjx-eqn-ftut-elast-varform-equilibrium)--[3](#mjx-eqn-ftut-elast-varform-strainu)) la definimos como la integral sobre el dominio $\\Omega$ del producto interno entre [1](#mjx-eqn-ftut-elast-varform-equilibrium) y una función vectorial de test $\\boldsymbol{v}\\in \\hat{V}$, donde $\\hat{V}$ es el espacio de la funcion de test.\n",
    "\n",
    "\\begin{equation} \n",
    "\\int_\\Omega \\rho \\ddot{\\boldsymbol{u}} \\mathrm{d}\\boldsymbol{x} + \\int_\\Omega \\rho \\eta \\dot{\\boldsymbol{u}} \\mathrm{d}\\boldsymbol{x} -\\int_\\Omega (\\boldsymbol{\\nabla}\\cdot\\boldsymbol{\\sigma}) \\cdot \\boldsymbol{v}\\ \\mathrm{d}\\boldsymbol{x} = \\int_\\Omega \\boldsymbol{f}\\cdot \\boldsymbol{v}\\ \\mathrm{d}\\boldsymbol{x},\\label{eq:elast:varform:variational}\\tag{5}\n",
    "\\end{equation}\n",
    "\n",
    "Como $\\boldsymbol{\\nabla}\\cdot\\boldsymbol{\\sigma}$ contiene derivadas de segundo orden en $\\boldsymbol{u}$, debilitamos la ecuación integrando por partes:\n",
    "\n",
    "\\begin{equation}\n",
    "-\\int_\\Omega (\\boldsymbol{\\nabla}\\cdot\\boldsymbol{\\sigma}) \\cdot \\boldsymbol{v} \\ \\mathrm{d}\\boldsymbol{x}\n",
    "= \\int_\\Omega \\boldsymbol{\\sigma} : \\boldsymbol{\\nabla} \\boldsymbol{v} \\ \\mathrm{d}\\boldsymbol{x} - \\int_{\\partial\\Omega}\n",
    "(\\boldsymbol{\\sigma}\\cdot \\boldsymbol{n})\\cdot \\boldsymbol{v} \\ \\mathrm{d}\\boldsymbol{s},\n",
    "\\label{eq:elast:varform:integbypart}\\tag{6}\n",
    "\\end{equation}\n",
    "donde $\\boldsymbol{n}$ es vector normal en el contorno.\n",
    "\n",
    "$\\boldsymbol{\\sigma}\\cdot \\boldsymbol{n}$ es conocido como la *tracción* (el esfuerzo en el contorno) y puede ser usado para prescribir una condicion de contorno de tipo Neumann o Robin de forma $\\boldsymbol{\\sigma}\\cdot \\boldsymbol{n} = \\boldsymbol{T}$.\n",
    "\n",
    "Reemplazando (\\ref{eq:elast:varform:integbypart}) en (\\ref{eq:elast:varform:variational})\n",
    "\\begin{equation}\n",
    "\\int_\\Omega \\rho \\ddot{\\boldsymbol{u}} \\mathrm{d}\\boldsymbol{x} + \\int_\\Omega \\rho \\eta \\dot{\\boldsymbol{u}} \\mathrm{d}\\boldsymbol{x} + \\int_\\Omega \\boldsymbol{\\sigma} : \\boldsymbol{\\nabla} \\boldsymbol{v}\\ \\mathrm{d}\\boldsymbol{x} =\n",
    "\\int_\\Omega \\boldsymbol{f}\\cdot \\boldsymbol{v}\\ \\mathrm{d}\\boldsymbol{x} + \\int_{\\partial\\Omega} \\boldsymbol{T}\\cdot \\boldsymbol{v}\\ \\mathrm{d}\\boldsymbol{s}.\n",
    "\\label{eq:elast:varform:varform_original}\\tag{7}\n",
    "\\end{equation}\n",
    "\n",
    "Donde usando la ecuacion ([4](#mjx-eqn-ftut-elast-varform-stressu)) para\n",
    "$\\boldsymbol{\\sigma}$ podemos escribir la ecuación variacional para $\\boldsymbol{u}$ como incognita."
   ]
  },
  {
   "cell_type": "markdown",
   "metadata": {},
   "source": [
    "### Parte simetrica de  $\\boldsymbol{\\nabla} \\boldsymbol{v}$\n",
    "\n",
    "Ya que el producto de un tensor simetrico con un anti-simetrico es cero, y sabiendo que el tensor de esfuerzos $\\boldsymbol{\\sigma}$ es simetrico, podemos reemplazar en la ecuacion ([7](#mjx-eqn-eq:elast:varform:varform_original)) $\\boldsymbol{\\nabla} \\boldsymbol{v}$ por su parte simétrica $\\boldsymbol{\\epsilon}(\\boldsymbol{v})$, dando como resultado\n",
    "\n",
    "\\begin{equation}\n",
    "\\int_\\Omega \\rho \\ddot{\\boldsymbol{u}} \\mathrm{d}\\boldsymbol{x} + \\int_\\Omega \\rho \\eta \\dot{\\boldsymbol{u}} \\mathrm{d}\\boldsymbol{x} + \\int_\\Omega \\boldsymbol{\\sigma} : \\boldsymbol{\\epsilon}(\\boldsymbol{v})\\ \\mathrm{d}\\boldsymbol{x} = \\int_\\Omega \\boldsymbol{f}\\cdot \\boldsymbol{v}\\ \\mathrm{d}\\boldsymbol{x} + \\int_{\\partial\\Omega} \\boldsymbol{T}\\cdot \\boldsymbol{v}\\ \\mathrm{d}\\boldsymbol{s}\n",
    "\\label{ftut-elast-varform-sigma_inner_gradv}\\tag{9}\n",
    "\\end{equation}"
   ]
  },
  {
   "cell_type": "markdown",
   "metadata": {},
   "source": [
    "### Estableciendo las condiciones de contorno\n",
    "\n",
    "Ahora consideremos cómo hacer cumplir las condiciones de contorno.\n",
    "Para los contornos con condiciones de Dirichlet, aplicaremos las condiciones de manera fuerte. Para estos puntos, las funciones de test asociadas con los nodos de Dirichlet se desvanecen.\n",
    "\n",
    "Para condiciones de tracción en los contornos, aplicaremos la forma variacional.\n",
    "Similarmente a lo realizado con la ecuación de Poisson, requerimos que el espacio funcional de test correspondiente a \n",
    "las funciones $ \\boldsymbol{v} $ desaparezcan a lo largo de $ \\partial \\Omega $ para los puntos interiores.\n",
    "Entonces, la integral de contorno anterior no tiene efectos para los puntos en\n",
    "$ \\partial \\Omega \\setminus \\partial \\Omega_T $."
   ]
  },
  {
   "cell_type": "markdown",
   "metadata": {},
   "source": [
    "### Forma variacional \n",
    "En resumen, el problema variacional es el siguiente: encontrar $\\boldsymbol{u}$ en un espacio funcional vectorial $\\hat{V}$, tal que\n",
    "\\begin{equation}\n",
    "m(\\boldsymbol{u},\\boldsymbol{v}) + c(\\boldsymbol{u},\\boldsymbol{v}) + a(\\boldsymbol{u},\\boldsymbol{v}) = L(\\boldsymbol{v})\\quad\\forall \\boldsymbol{v}\\in\\hat{V},\\tag{10}\n",
    "\\end{equation}\n",
    "donde\n",
    "\\begin{align}\n",
    "m(\\boldsymbol{u},\\boldsymbol{v}) &= \\int_\\Omega \\rho \\ddot{\\boldsymbol{u}} \\mathrm{d}\\boldsymbol{x},\\tag{11}\\\\\n",
    "c(\\boldsymbol{u},\\boldsymbol{v}) &= \\int_\\Omega \\rho \\eta \\dot{\\boldsymbol{u}} \\mathrm{d}\\boldsymbol{x},\\tag{12}\\\\\n",
    "a(\\boldsymbol{u},\\boldsymbol{v}) &= \\int_\\Omega\\sigma(\\boldsymbol{u}) :\\varepsilon(\\boldsymbol{v})\\ \\mathrm{d}\\boldsymbol{x},\\tag{13}\\\\\n",
    "L(\\boldsymbol{v}) &= \\int_\\Omega \\boldsymbol{f}\\cdot \\boldsymbol{v}\\ \\mathrm{d}\\boldsymbol{x} + \\int_{\\partial\\Omega_T} \\boldsymbol{T}\\cdot \\boldsymbol{v}\\ \\mathrm{d}\\boldsymbol{s}\\tag{14},\n",
    "\\end{align}"
   ]
  },
  {
   "cell_type": "markdown",
   "metadata": {},
   "source": [
    "## Implementación en FEniCS\n",
    "\n",
    "Modelamos una barra 3D empotrada en un extremo y con una carga aplicada en el otro. Adicionalmente incluimos el peso de la barra.\n",
    "\n",
    "La carga y el peso pueden ser facilmente modeladas sumando al lado derecho de la ecuacion el termino $\\boldsymbol{f}=(0,-\\rho g + s,0)$, en donde $g$ es la magnitud de la aceleracion por gravedad y $s(t,x)$ es una distribución de carga cualquiera. La barra es un paralelepipedo de longitud $L$ y de sección transversal $W \\times H$. Fijamos el desplazamiento en la parte empotrada ($x=0$) como $\\boldsymbol{u}=(0,0,0)$, y el resto de la barra la dejamos libre de tracciones $\\boldsymbol{T} = 0$. Entonces, el lado derecho de la forma variacional es de la forma\n",
    "$$L(\\boldsymbol{v}) = \\int_\\Omega \\boldsymbol{f}\\cdot \\boldsymbol{v} \\mathrm{d}\\boldsymbol{x}$$\n",
    "\n",
    "<img src=\"images/elasticidad.png\" width=\"400\">\n",
    "\n",
    "### Importar paquetes\n",
    "\n",
    "Importamos los paquetes de solucion (**dolfin**), de mallado (**mshr**), de cálculo numérico (**numpy**) para realizar operaciones numericas de proceso y posproceso, así como **matplotlib** para ver los resultados directamente durante la ejecución del programa"
   ]
  },
  {
   "cell_type": "code",
   "execution_count": 1,
   "metadata": {},
   "outputs": [],
   "source": [
    "from dolfin import *\n",
    "from mshr import *\n",
    "import numpy as np\n",
    "import matplotlib.pyplot as plt\n",
    "from tqdm import tqdm"
   ]
  },
  {
   "cell_type": "markdown",
   "metadata": {},
   "source": [
    "### Dominio geométrico, propiedades, malla y subdominios\n",
    "\n",
    "Definimos el dominio computacional $\\Omega$, definimos las propiedades, generamos la malla y creamos subdominios para aplicar la condición de contorno Dirichlet y la carga $s(t)$."
   ]
  },
  {
   "cell_type": "code",
   "execution_count": 2,
   "metadata": {},
   "outputs": [],
   "source": [
    "# Dominio geometrico y malla\n",
    "L = 1; W = 0.1; H =0.04\n",
    "\n",
    "mesh = BoxMesh(Point(0, 0, 0), Point(L, W, H), 60, 10, 5)\n",
    "x = SpatialCoordinate(mesh)\n",
    "\n",
    "# Propiedades del material\n",
    "# Constantes de Lame\n",
    "E  = 1000.0\n",
    "nu = 0.3\n",
    "mu    = Constant(E / (2.0*(1.0 + nu)))\n",
    "lmbda = Constant(E*nu / ((1.0 + nu)*(1.0 - 2.0*nu)))\n",
    "# Densidad\n",
    "rho = Constant(1.0)\n",
    "# Coeficiente de amortiguacion\n",
    "eta = Constant(0.1)\n",
    "\n",
    "#Subdominios\n",
    "# Izquierda\n",
    "def left(x, on_boundary):\n",
    "    return near(x[0], 0.) and on_boundary     \n",
    "# Derecha\n",
    "def right(x, on_boundary):\n",
    "    return near(x[0], 1.) and on_boundary"
   ]
  },
  {
   "cell_type": "markdown",
   "metadata": {},
   "source": [
    "### Generación de los espacios funcionales sobre la malla\n",
    "\n",
    "Una vez creada la malla, podemos crear un espacio funcional de elementos finitos $V$ sobre dicho dominio geométrico discreto:"
   ]
  },
  {
   "cell_type": "code",
   "execution_count": 3,
   "metadata": {},
   "outputs": [],
   "source": [
    "# Espacio de funciones para desplazamiento, velocidad y aceleraciones\n",
    "V = VectorFunctionSpace(mesh, \"Lagrange\", 2)\n",
    "# Espacio de funciones para esfuerzos\n",
    "Vsig = TensorFunctionSpace(mesh, \"DG\", 0)"
   ]
  },
  {
   "cell_type": "markdown",
   "metadata": {},
   "source": [
    "En este caso, tenemos un espacio funcional que es vectorial. Esto se puede entender como un arreglo de espacios funcionales escalares: uno para cada componente dimensional de la deformación del sólido elástico.\n",
    "\n",
    "Usamos un elemento de tipo Lagrangeano (Lagrange) con un orden de interpolacion de primer orden. Adicionalmente creamos un espacio funcional discontinuo (DG) con el que representaremos los esfuerzos en el postproceso."
   ]
  },
  {
   "cell_type": "markdown",
   "metadata": {},
   "source": [
    "### Definición del problema variacional\n",
    "\n",
    "La incógnita principal de este problema es un campo vectorial $ \\boldsymbol{u} $ y no un campo escalar. Por lo que necesitamos trabajar con un espacio funcional vectorial."
   ]
  },
  {
   "cell_type": "code",
   "execution_count": 4,
   "metadata": {},
   "outputs": [],
   "source": [
    "u = TrialFunction(V)\n",
    "v = TestFunction(V)"
   ]
  },
  {
   "cell_type": "markdown",
   "metadata": {},
   "source": [
    "Con `u = TrialFunction(V)` definimos `u` como un espacio funcional de elementos finitos vectorial con tres componentes: uno para cada dimensión de este problema tridimensional."
   ]
  },
  {
   "cell_type": "markdown",
   "metadata": {},
   "source": [
    "### Formas variacionales como funciones\n",
    "\n",
    "Definimos las formas variacionales $m(\\boldsymbol{u},\\boldsymbol{v})$, $c(\\boldsymbol{u},\\boldsymbol{v})$, $a(\\boldsymbol{u},\\boldsymbol{v})$ y $L(\\boldsymbol{v})$, la funcion para calcular los esfuerzos $\\boldsymbol{\\sigma}(\\boldsymbol{u})$ (`sigma`) y una función de proyecccion local para representar el tensor de esfuerzos en el postproceso.\n",
    "\n",
    "Todas estas funciones las definimos como funciones de python, usando las funciones intrinsecas de FEniCS (`inner`, `grad`, `sym`)."
   ]
  },
  {
   "cell_type": "code",
   "execution_count": 5,
   "metadata": {},
   "outputs": [],
   "source": [
    "# Tensor de esfuerzos\n",
    "def sigma(u):\n",
    "    return 2.0*mu*sym(grad(u)) + lmbda*tr(sym(grad(u)))*Identity(len(u))\n",
    "\n",
    "# Matriz de masa\n",
    "def mmat(u,v):\n",
    "    return rho*inner(u, v)*dx\n",
    "\n",
    "# Matriz de rigidez elastica\n",
    "def kmat(u, v):\n",
    "    return inner(sigma(u), sym(grad(v)))*dx\n",
    "\n",
    "# Amortiguacion de Rayleigh\n",
    "def cmat(u, u_):\n",
    "    return eta*mmat(u, v)\n",
    "\n",
    "# Proyeccion local\n",
    "def local_project(v, V, u=None):\n",
    "    dv = TrialFunction(V)\n",
    "    v_ = TestFunction(V)\n",
    "    a_proj = inner(dv, v_)*dx\n",
    "    b_proj = inner(v, v_)*dx\n",
    "    solver = LocalSolver(a_proj, b_proj)\n",
    "    solver.factorize()\n",
    "    if u is None:\n",
    "        u = Function(V)\n",
    "        solver.solve_local_rhs(u)\n",
    "        return u\n",
    "    else:\n",
    "        solver.solve_local_rhs(u)\n",
    "        return"
   ]
  },
  {
   "cell_type": "markdown",
   "metadata": {},
   "source": [
    "### Definición de condiciones de contorno\n",
    "\n",
    "Especificamos la condición de contorno de Dirichlet $u=(0,0,0)$ en el subdominio izquierdo (usando la funcion `DirichletBC`) y definimos el area donde aplicamos la carga $s(t)$ (lado derecho)."
   ]
  },
  {
   "cell_type": "code",
   "execution_count": 6,
   "metadata": {},
   "outputs": [],
   "source": [
    "# Condicion de contorno izquierda (Dirichlet)\n",
    "zero = Constant((0.0, 0.0, 0.0))\n",
    "bc = DirichletBC(V, zero, left)\n",
    "\n",
    "# Condicion de contorno derecha\n",
    "boundary_subdomains = MeshFunction(\"size_t\", mesh, mesh.topology().dim() - 1)\n",
    "boundary_subdomains.set_all(0)\n",
    "force_boundary = AutoSubDomain(right)\n",
    "force_boundary.mark(boundary_subdomains, 3)\n",
    "dss = ds(subdomain_data=boundary_subdomains)"
   ]
  },
  {
   "cell_type": "markdown",
   "metadata": {},
   "source": [
    "### Definicion de las fuerzas de cuerpo\n",
    "\n",
    "Definimos la fuerza de cuerpo $\\boldsymbol{f}$ compuesta por el peso de la barra $\\rho g$ y la función temporal en el lado derecho $s(t)$"
   ]
  },
  {
   "cell_type": "code",
   "execution_count": 7,
   "metadata": {},
   "outputs": [],
   "source": [
    "# Definicion de las cargas\n",
    "k = 0.25\n",
    "s0 = 1.\n",
    "s = Expression((\"0\", \"s0*sin(k*pi*t)\",\"0\"), t=0, k=k, s0=s0, degree=0)\n",
    "g = Constant((0.,-1,0.))"
   ]
  },
  {
   "cell_type": "markdown",
   "metadata": {},
   "source": [
    "### Integrador temporal\n",
    "\n",
    "Usamos el método de Newmark como integrador temporal para las derivadas temporales del problema. Creamos funciones para actualizar los campos de desplazamiento, velocidad y aceleracion en cada paso de tiempo. Tambien definimos campos vectoriales `u_old`, `v_old` y `a_old`, que vamos a usar en la integracion temporal.\n",
    "\n",
    "Tambien definimos el tiempo total de simulación y el paso de tiempo."
   ]
  },
  {
   "cell_type": "code",
   "execution_count": 8,
   "metadata": {},
   "outputs": [],
   "source": [
    "T  = 1.0 # tiempo total\n",
    "dt = 0.25 # paso de tiempo\n",
    "Nt = int(T/dt)\n",
    "ti = np.linspace(0, T, Nt)\n",
    "\n",
    "# Campos para el paso de tiempo anterior\n",
    "u_old = Function(V, name=\"Desplazamiento\")\n",
    "v_old = Function(V, name=\"Velocidad\")\n",
    "a_old = Function(V, name=\"Aceleracion\")\n",
    "\n",
    "# Metodo de Newmark (punto medio)\n",
    "gamma   = Constant(0.5)\n",
    "beta    = Constant((gamma+0.5)**2/4.)\n",
    "\n",
    "# Aceleracion\n",
    "# a = 1/(2*beta)*((u - u0 - v0*dt)/(0.5*dt*dt) - (1-2*beta)*a0)\n",
    "def update_a(u, u_old, v_old, a_old, ufl=True):\n",
    "    if ufl:\n",
    "        dt_ = dt\n",
    "        beta_ = beta\n",
    "    else:\n",
    "        dt_ = float(dt)\n",
    "        beta_ = float(beta)\n",
    "    return (u-u_old-dt_*v_old)/beta_/dt_**2 - (1-2*beta_)/2/beta_*a_old\n",
    "\n",
    "# Velocidad\n",
    "# v = dt * ((1-gamma)*a0 + gamma*a) + v0\n",
    "def update_v(a, u_old, v_old, a_old, ufl=True):\n",
    "    if ufl:\n",
    "        dt_ = dt\n",
    "        gamma_ = gamma\n",
    "    else:\n",
    "        dt_ = float(dt)\n",
    "        gamma_ = float(gamma)\n",
    "    return v_old + dt_*((1-gamma_)*a_old + gamma_*a)\n",
    "\n",
    "# Actualizar campos\n",
    "def update_fields(u, u_old, v_old, a_old):\n",
    "    \"\"\"Update fields at the end of each time step.\"\"\"\n",
    "\n",
    "    # Vectores de referencia\n",
    "    u_vec, u0_vec  = u.vector(), u_old.vector()\n",
    "    v0_vec, a0_vec = v_old.vector(), a_old.vector()\n",
    "\n",
    "    # Actualizacion de velocidad y aceleracion\n",
    "    a_vec = update_a(u_vec, u0_vec, v0_vec, a0_vec, ufl=False)\n",
    "    v_vec = update_v(a_vec, u0_vec, v0_vec, a0_vec, ufl=False)\n",
    "\n",
    "    # Actualizacion de desplazamiento\n",
    "    v_old.vector()[:], a_old.vector()[:] = v_vec, a_vec\n",
    "    u_old.vector()[:] = u.vector()"
   ]
  },
  {
   "cell_type": "markdown",
   "metadata": {},
   "source": [
    "### Definicion del problema variacional\n",
    "\n",
    "Usando todos los ingredientes anteriores, escribimos el problema variacional y exprezamos el problema en forma matricial $\\boldsymbol{K} \\boldsymbol{u} = \\boldsymbol{b}$"
   ]
  },
  {
   "cell_type": "code",
   "execution_count": 9,
   "metadata": {},
   "outputs": [],
   "source": [
    "# Ecuacion de elasticidad en forma residual\n",
    "a_new = update_a(u, u_old, v_old, a_old, ufl=True)\n",
    "v_new = update_v(a_new, u_old, v_old, a_old, ufl=True)\n",
    "res = mmat(a_new,v) + cmat(v_new,v) \\\n",
    "       + kmat(u,v) - rho*dot(s,v)*dss(3) - dot(rho*g,v)*dx\n",
    "# Ensamble del sistema de ecuaciones\n",
    "B_form = lhs(res)\n",
    "L_form = rhs(res)\n",
    "K, b = assemble_system(B_form, L_form, bc)"
   ]
  },
  {
   "cell_type": "markdown",
   "metadata": {},
   "source": [
    "### Arrays de postproceso e impresion de datos\n",
    "\n",
    "Creamos arrays de numpy para guardar algunos resultados y abrimos el archivo de **XDMF** donde vamos a almacenar los datos de postproceso"
   ]
  },
  {
   "cell_type": "code",
   "execution_count": 10,
   "metadata": {},
   "outputs": [],
   "source": [
    "# Inicializacion de variables de salida\n",
    "u_tip = np.zeros((Nt,)) # desplazamiento en lado derecho de la barra\n",
    "E_damp = 0\n",
    "energia = np.zeros((Nt, 2))\n",
    "\n",
    "# Creacion de archivos de salida (ParaView)\n",
    "xdmf_file = XDMFFile(\"bar.xdmf\")\n",
    "xdmf_file.parameters[\"flush_output\"] = True\n",
    "xdmf_file.parameters[\"functions_share_mesh\"] = True\n",
    "xdmf_file.parameters[\"rewrite_function_mesh\"] = False"
   ]
  },
  {
   "cell_type": "markdown",
   "metadata": {},
   "source": [
    "## Solución del problema\n",
    "\n",
    "En esta sección finalmente resolvemos el problema. Iniciamos definiendo nuestro campo vectorial para la solución `u` y uno donde calcularemos el tensor de esfuerzos `sig`.\n",
    "Usamos el ciclo `for` para iterar sobre todos los pasos de tiempo, y en este bucle evaluamos la fuerza $s(t)$ en el paso de tiempo actual, ensamblamos la forma $L(v)$ y solucionamos el problema.\n",
    "Finalmente, actualizamos los campos de desplazamiento, velocidad, aceleración y esfuerzo, y guardamos los datos necesarios para el postproceso."
   ]
  },
  {
   "cell_type": "code",
   "execution_count": 11,
   "metadata": {},
   "outputs": [
    {
     "name": "stderr",
     "output_type": "stream",
     "text": [
      "Time loop: 100%|██████████| 4/4 [01:50<00:00, 27.62s/it] \n"
     ]
    }
   ],
   "source": [
    "u = Function(V, name=\"Desplazamiento\")\n",
    "sig = Function(Vsig, name=\"sigma\")\n",
    "\n",
    "# Propiedades del solver\n",
    "solver = LUSolver(K, \"mumps\")\n",
    "solver.parameters[\"symmetric\"] = True\n",
    "\n",
    "# Bucle temporal\n",
    "for i in tqdm(range(Nt),desc='Time loop'):\n",
    "\n",
    "    t = ti[i]\n",
    "\n",
    "    # Fuerza evaluada en t_{n+1}=t_{n+1}-dt\n",
    "    s.t = t\n",
    "\n",
    "    # Solucionar desplazamientos\n",
    "    b = assemble(L_form)\n",
    "    bc.apply(b)\n",
    "    solver.solve(K, u.vector(), b)\n",
    "\n",
    "    # Actualizar campos\n",
    "    update_fields(u, u_old, v_old, a_old)\n",
    "\n",
    "    # Calcular esfuerzos\n",
    "    local_project(sigma(u), Vsig, sig)\n",
    "\n",
    "    # Guardar solucion (vizualizacion)\n",
    "    xdmf_file.write(u_old, t)\n",
    "    xdmf_file.write(v_old, t)\n",
    "    xdmf_file.write(a_old, t)\n",
    "    xdmf_file.write(sig, t)\n",
    "\n",
    "    # Guardar solucion (desplazamiento y energia)\n",
    "    u_tip[i] = u(1., 0.05, 0.02)[1]\n",
    "    E_elas = assemble(0.5*kmat(u_old, u_old))\n",
    "    E_kin = assemble(0.5*mmat(v_old, v_old))\n",
    "    energia[i, :] = np.array([E_elas, E_kin])"
   ]
  },
  {
   "cell_type": "markdown",
   "metadata": {},
   "source": [
    "## Post-proceso\n",
    "\n",
    "\n",
    "### Visualización y postprocesamiento interno de la solución\n",
    "\n",
    "Usando el array `u_tip`, podemos graficar el desplazamiento en el lado derecho de la barra"
   ]
  },
  {
   "cell_type": "code",
   "execution_count": 12,
   "metadata": {},
   "outputs": [
    {
     "data": {
      "image/png": "[encoded data removed]",
      "text/plain": [
       "<Figure size 432x288 with 1 Axes>"
      ]
     },
     "metadata": {
      "needs_background": "light"
     },
     "output_type": "display_data"
    }
   ],
   "source": [
    "# Imprimir desplazamiento en x=(1,0.05,0.02)\n",
    "plt.figure()\n",
    "plt.plot(ti, u_tip)\n",
    "plt.xlabel(\"Time\")\n",
    "plt.ylabel(\"Desplazamiento\")\n",
    "plt.savefig('images/tip.png',format='png',dpi=400)\n",
    "plt.show()"
   ]
  },
  {
   "cell_type": "markdown",
   "metadata": {},
   "source": [
    "Usando las soluciones de desplazamiento `u_old` y velocidad `v_old`, podemos definir la energia elastica como $E_e = \\int_\\Omega \\frac{1}{2} \\boldsymbol{\\sigma}(\\boldsymbol{u}):\\boldsymbol{\\epsilon}(\\boldsymbol{u}) dx$ y la energia cinetica como $E_k = \\int_\\Omega \\frac{1}{2} \\rho \\dot{\\boldsymbol{u}} \\cdot\\dot{ \\boldsymbol{u}} dx$"
   ]
  },
  {
   "cell_type": "code",
   "execution_count": 13,
   "metadata": {},
   "outputs": [
    {
     "data": {
      "image/png": "[encoded data removed]",
      "text/plain": [
       "<Figure size 432x288 with 1 Axes>"
      ]
     },
     "metadata": {
      "needs_background": "light"
     },
     "output_type": "display_data"
    }
   ],
   "source": [
    "# Imprimir energia\n",
    "plt.figure()\n",
    "plt.plot(ti, energia)\n",
    "plt.legend((\"elastica\", \"cinetica\", \"amortiguacion\"))\n",
    "plt.xlabel(\"Time\")\n",
    "plt.ylabel(\"Energia\")\n",
    "plt.savefig('images/energy.png',format='png',dpi=400)\n",
    "plt.show()"
   ]
  },
  {
   "cell_type": "markdown",
   "metadata": {},
   "source": [
    "**Reconocimiento**: Este cuaderno fue adaptado de [The FEniCS Tutorial Volume I] (https://fenicsproject.org/pub/tutorial/sphinx1/) elaborado por Hans Petter Langtangen y Anders Logg, publicado bajo licencia CC Attribution 4.0."
   ]
  }
 ],
 "metadata": {
  "kernelspec": {
   "display_name": "Python 3",
   "language": "python",
   "name": "python3"
  },
  "language_info": {
   "codemirror_mode": {
    "name": "ipython",
    "version": 3
   },
   "file_extension": ".py",
   "mimetype": "text/x-python",
   "name": "python",
   "nbconvert_exporter": "python",
   "pygments_lexer": "ipython3",
   "version": "3.9.1"
  },
  "latex_envs": {
   "LaTeX_envs_menu_present": true,
   "autocomplete": true,
   "bibliofile": "",
   "cite_by": "apalike",
   "current_citInitial": 1,
   "eqLabelWithNumbers": true,
   "eqNumInitial": 1,
   "hotkeys": {
    "equation": "Ctrl-E",
    "itemize": "Ctrl-I"
   },
   "labels_anchors": false,
   "latex_user_defs": false,
   "report_style_numbering": false,
   "user_envs_cfg": true
  }
 },
 "nbformat": 4,
 "nbformat_minor": 2
}
