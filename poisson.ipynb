{
 "cells": [
  {
   "cell_type": "markdown",
   "metadata": {},
   "source": [
    "# Ecuación de Poisson\n",
    "\n",
    "INTRODUCCION"
   ]
  },
  {
   "cell_type": "markdown",
   "metadata": {},
   "source": [
    "## La ecuación diferencial parcial más sencilla\n",
    "\n",
    "Solucionaremos la ecuación de Poisson, el problema \"Hola Mundo\" de la computación científica:  \n",
    "    Encontrar la incógnita $u$, conociendo el término fuente $f$, tal que:\n",
    "    \\begin{align}\n",
    "      -\\triangle u &= f, \\ && \\text{en} \\: \\Omega,\\\\\n",
    "      u &= u_0, && \\text{sobre} \\: \\partial\\Omega.\n",
    "    \\end{align}\n",
    "\n",
    "\n",
    "La ecuación modela distintos fenómenos difusivos:\n",
    "\n",
    "- Conducción de calor, electrostática, flujos no viscosos, ondas.\n",
    "- Como parte de métodos de solución de EDPs para configuraciones no-clásicas."
   ]
  },
  {
   "cell_type": "markdown",
   "metadata": {},
   "source": [
    "## La receta numérica para aproximar su solución\n",
    "\n",
    "Aproximar numéricamente el problema por métodos numéricos variacionales consta de los siguiente pasos:\n",
    "- Plantear la formulación variacional del problema.\n",
    "- Plantear el espacio funcional de aproximación numérica: Galerkin Continuo, Galerkin Discontinuo, Colocación, etc.\n",
    "- Ensamblar el sistema discreto de ecuaciones, incluyendo las condiciones de contorno.\n",
    "FEniCS nos reduce este proceso al primer paso!\n",
    "\n",
    "## Formulación variacional\n",
    "\n",
    "La formulación variacional la definimos como la integral sobre el dominio $\\Omega$ del producto interno entre la ecuación de Poisson y una función vectorial de test $\\boldsymbol{v}\\in \\hat{V}$, donde $\\hat{V}$ es el espacio de la funcion de test.\n",
    "\n",
    "\\begin{align*} \n",
    "-\\int_\\Omega (\\triangle u) v \\text{d} x &= \\int_\\Omega fv \\text{d} x, && \\text{en} \\: \\Omega.\n",
    "\\end{align*}\n",
    "\n",
    "Como $\\triangle u$ contiene derivadas de segundo orden sobre $u$, debilitamos la ecuación integrando por partes:\n",
    "\n",
    "\\begin{align*}\n",
    "-\\int_\\Omega (\\triangle u) v \\text{d} x &= \\int_\\Omega \\nabla u \\cdot \\nabla v \\text{d} x - \\int_{\\partial \\Omega}\\frac{\\partial u}{\\partial n} v \\text{d} s, && \\text{en} \\: \\Omega.\n",
    "\\end{align*}\n",
    "donde $\\boldsymbol{n}$ es vector normal en el contorno.\n",
    "\n",
    "$\\frac{\\partial u}{\\partial n}$ es conocido como el flujo en el contorno $\\partial \\Omega$ y puede ser usado para prescribir una condicion de contorno de tipo Neumann o Robin de la forma $\\frac{\\partial u}{\\partial n} = t$.\n",
    "\n",
    "Suponiendo que no hay flujos en los contornos del dominio, la formulación variacional está dada por\n",
    "    \\begin{align*}\n",
    "         \\int_\\Omega \\nabla u \\cdot \\nabla v \\text{d} x&= \\int_\\Omega fv \\text{d} x, && \\text{en} \\: \\Omega.\\\\\n",
    "    \\end{align*}\n",
    "    \n",
    "### Definición de los espacios discretos de interpolación\n",
    "\n",
    "Definición de un espacio discreto de aproximación contenido dentro del espacio continuo. Uno para el espacio de la función de test:\n",
    "    \\begin{align*}\n",
    "        \\widetilde{V}_h\\subset \\widetilde{V}:=\\left\\{v\\in H(\\Omega): v=0 \\:\\text{sobre} \\: \\partial\\Omega\\right\\}, \n",
    "    \\end{align*}\n",
    "    y otra para la función de la incógnita:\n",
    "    \\begin{align*}\n",
    "        V_h\\subset V:=\\left\\{v\\in H(\\Omega): v=u_0 \\:\\text{sobre} \\: \\partial\\Omega\\right\\}.\n",
    "    \\end{align*}\n",
    "Tal que, el problema discreto es encontrar $u_h\\in V_h\\subset V$, tal que:\n",
    "    \\begin{align*}\n",
    "     \\int_\\Omega \\nabla u_h \\cdot \\nabla v_h \\text{d} x&= \\int_\\Omega fv_h \\text{d} x, && \\text{en} \\: \\Omega.\\\\\n",
    "    \\end{align*}\n",
    "    para todo $v_h\\in \\widetilde{V}_h\\subset \\widetilde{V}$.\n"
   ]
  },
  {
   "cell_type": "markdown",
   "metadata": {},
   "source": [
    "### Notación variacional en FEniCS\n",
    "Este tipo de ecuaciones variacionales discretas se puede escribir usando la siguiente notación: Encontrar $u_h\\in V_h\\subset V$, tal que:\n",
    "    \\begin{align*}\n",
    "     a(u_h,v_h)&=L(v_h),\n",
    "    \\end{align*}\n",
    " para todo $v_h\\in \\widetilde{V}_h\\subset \\widetilde{V}$.\n",
    " \n",
    " Donde $a(u,v)$ es una forma variacional bilineal (lineal en cada argumento) y $L(v)$ es una forma lineal:\n",
    "    \\begin{align*}\n",
    "     a(u_h,v_h)&=\\int_\\Omega \\nabla u_h \\cdot \\nabla v_h \\text{d} x,\\\\\n",
    "     L(v_h)&= \\int_\\Omega fv_h \\text{d} x.\\\\\n",
    "     \\end{align*}\n",
    "     \n",
    "  ## Sistema discreto de ecuaciones lineales\n",
    "\n",
    "Introduciendo las funciones de test y de interpolación de la incógnita como polinomios a trozos:\n",
    "\\begin{align*}\n",
    "        v_h=&\\sum_i^n \\phi_i \\subset \\widetilde{V}_h\\subset \\widetilde{V}, &&\n",
    "        u_h=&\\sum_j^n U_j\\phi_j \\subset V_h\\subset V.\n",
    "    \\end{align*}\n",
    "La ecuación discreta resulta en:\n",
    "\\begin{align*}\n",
    "    \\int_\\Omega \\partial_k \\sum_j^n U_j\\phi_j \\partial_k \\sum_i^n \\phi_i \\text{d} x =& \\int_\\Omega f\\sum_i \\phi_i \\text{d} x.\n",
    "\\end{align*}\n",
    "O mejor:\n",
    "\\begin{align*}\n",
    "    \\sum_i^n\\sum_j^n\\int_{\\Omega^e} U_j \\partial_k\\phi_j \\partial_k \\phi_i \\text{d} x =& \\sum_i^n \\int_{\\Omega^e} f \\phi_i \\text{d} x.\n",
    "\\end{align*}\n",
    "\n",
    "\n",
    "Deshaciendo las sumatorias y el álgebra lineal:\n",
    "\\begin{align*}\n",
    "        \\begin{bmatrix}\n",
    "a_{11} & a_{12} & a_{13} & \\dots & a_{1n} \\\\\n",
    "a_{21} & a_{22} & a_{23} & \\dots & a_{2n} \\\\\n",
    "\\dots  & \\dots  & \\dots  & a_{ij} & \\dots  \\\\\n",
    "a_{n1} & a_{n2} & a_{n3} & \\dots & a_{nn} \n",
    "\\end{bmatrix}\n",
    "\\begin{bmatrix}\n",
    "U_1 \\\\ U_2 \\\\ \\dots \\\\ U_n \n",
    "\\end{bmatrix}\n",
    "=&\n",
    "\\begin{bmatrix}\n",
    "L_{1} \\\\ L_{2} \\\\ \\dots \\\\ L_{3}\n",
    "\\end{bmatrix},\n",
    "\\end{align*}\n",
    "donde $U_j$ son las incógnitas nodales, $a_{ij}$ viene dada por una integración local sobre cada elemento $a_{ij} = \\int_{\\Omega^e} U_j \\partial_k\\phi_j \\partial_k \\phi_i \\text{d} x$ y $L_i$ está dada por $L_i = \\int_{\\Omega^e} f \\phi_i \\text{d} x$.\n",
    "\n",
    "Esto es lo mismo que un sistema lineal del tipo $\\mathbb{A}\\mathbb{U}=\\mathbb{L}$, cuya resolución está dada por:\n",
    "\n",
    "\\begin{align*}\n",
    "    \\mathbb{U}=&\\mathbb{A}^{-1}\\mathbb{L}\n",
    "\\end{align*}"
   ]
  },
  {
   "cell_type": "markdown",
   "metadata": {},
   "source": [
    "## Implementación en FEniCS\n",
    "\n",
    "Modelamos un dominio bidimensional cuadrador con condiciones de Dirichlet en sus contornos y un término fuente constante.\n",
    "\n",
    "\n",
    "<img src=\"https://fenicsproject.org/pub/tutorial/sphinx1/_images/poisson_plot.png\" width=\"800\">\n",
    "\n",
    "### El programa completo"
   ]
  },
  {
   "cell_type": "code",
   "execution_count": null,
   "metadata": {
    "collapsed": true
   },
   "outputs": [],
   "source": [
    "from dolfin import *\n",
    "import matplotlib.pyplot as plt\n",
    "\n",
    "# Malla\n",
    "mesh = UnitSquareMesh(8,8)\n",
    "# Espacio de funciones para la incognita y test\n",
    "V= FunctionSpace(mesh,\"Lagrange\",1)\n",
    "# Expresion para las condiciones de contorno\n",
    "u0=Expression(\"1+ x[0]*x[1] + 2*x[1]*x[1]\",degree=2)\n",
    "# Definicion de las condiciones de contorno\n",
    "bc = DirichletBC ( V , u0 , \"on_boundary\")\n",
    "# Fuente\n",
    "f=Constant(-6.0)\n",
    "\n",
    "# Funcion de trial\n",
    "u= TrialFunction(V)\n",
    "# Funcion de test\n",
    "v= TestFunction(V)\n",
    "# Forma bilineal del lado izquierdo\n",
    "a = inner(grad(u), grad(v))*dx\n",
    "# Forma lineal del lado derecho\n",
    "L=f*v*dx\n",
    "# Funcion donde se almacena el resultado\n",
    "u = Function(V)\n",
    "# Solucion del sistema algebraico\n",
    "solve(a==L, u, bc)\n",
    "\n",
    "#Impresion usando paraview\n",
    "vtkfile = File('poisson_solution.pvd')\n",
    "vtkfile << u"
   ]
  },
  {
   "cell_type": "markdown",
   "metadata": {},
   "source": [
    "### Importar paquetes\n",
    "\n",
    "Importamos los paquetes de solucion (dolfin), de mallado (mshr), numpy para realizar operaciones numericas y matplotlib para ver los resultados"
   ]
  },
  {
   "cell_type": "code",
   "execution_count": 1,
   "metadata": {
    "collapsed": true
   },
   "outputs": [],
   "source": [
    "from dolfin import *\n",
    "import matplotlib.pyplot as plt"
   ]
  },
  {
   "cell_type": "markdown",
   "metadata": {},
   "source": [
    "### Dominio geometrico y mallado\n",
    "\n",
    "Definimos el dominio $\\Omega$ y generamos la malla directamente usando FEniCS:"
   ]
  },
  {
   "cell_type": "code",
   "execution_count": null,
   "metadata": {
    "collapsed": true
   },
   "outputs": [],
   "source": [
    "mesh = UnitSquareMesh(8,8)"
   ]
  },
  {
   "cell_type": "markdown",
   "metadata": {},
   "source": [
    "Las posibilidades que existen de generación de dominios con la librería **mshr** son inmensas."
   ]
  },
  {
   "cell_type": "markdown",
   "metadata": {},
   "source": [
    "###  Definición de los espacios funcionales\n",
    "\n",
    "FEniCS tienen programada internamente una gran cantidad de familias de elementos finitos, incluyendo: Lagrangeanos, Curl, Div, Discontinuos, y la posibilidad de realizar distintas combinaciones de espacios funcionales entre ellos.\n",
    "\n",
    "<img src=\"http://3.bp.blogspot.com/-6WqQwRg8jU4/VawMkcEg9vI/AAAAAAAAAZ8/VfsN79NFTbg/s1600/Periodic%2BTable.PNG\" width=\"800\">\n",
    "\n",
    "Una vez creada la malla, podemos crear un espacio funcional de elementos finitos V sobre dicho dominio geométrico discreto:"
   ]
  },
  {
   "cell_type": "code",
   "execution_count": null,
   "metadata": {
    "collapsed": true
   },
   "outputs": [],
   "source": [
    "V= FunctionSpace(mesh,\"Lagrange\",1)"
   ]
  },
  {
   "cell_type": "markdown",
   "metadata": {},
   "source": [
    "El segundo argumento especifica el tipo de elemento. El tipo de elemento aquí es \"Lagrange\", lo que implica la familia de elementos estándar de Lagrange. También puede utilizar 'P' para especificar este tipo de elemento. FEniCS soporta todas las familias de elementos simplex y la notación definida en la Tabla Periódica de Elementos Finitos.\n",
    "\n",
    "El tercer argumento 1 especifica el grado del elemento finito. En este caso, el estándar 𝖯1 elemento lineal de Lagrange, que es un triángulo con nodos en los tres vértices. Algunos se refieren a este elemento como el \"triángulo lineal\". La solución calculada $u$ será continua en los elementos y variará linealmente en $(x,y)$ dentro de cada elemento. Las aproximaciones polinomiales de mayor grado sobre cada celda se obtienen trivialmente aumentando el tercer parámetro. Cambiar el segundo parámetro a 'DP' crea un espacio funcional para métodos de Galerkin discontinuos."
   ]
  },
  {
   "cell_type": "markdown",
   "metadata": {},
   "source": [
    "### Definición de las funciones de trial y test\n",
    "\n",
    "En matemáticas, distinguimos entre los espacios de interpolación de la incógnita $V$ y el de prueba o test $\\tilde{V}$. La única diferencia en el problema actual son las condiciones de contorno. En FEniCS no especificamos las condiciones de contorno como parte del espacio funcional, por lo que es suficiente trabajar con un espacio común $V$ para las distintas funciones:"
   ]
  },
  {
   "cell_type": "code",
   "execution_count": 3,
   "metadata": {
    "collapsed": true
   },
   "outputs": [],
   "source": [
    "u = TrialFunction(V)\n",
    "v = TestFunction(V)"
   ]
  },
  {
   "cell_type": "markdown",
   "metadata": {},
   "source": [
    "### Definición de condiciones de contorno tipo Dirichlet\n",
    "\n",
    "El siguiente paso es especificar la condición de contorno $u= u_D$ sobre $\\partial\\Omega$. Esto se hace muy fácilmente con la siguiente rutina:"
   ]
  },
  {
   "cell_type": "code",
   "execution_count": null,
   "metadata": {
    "collapsed": true
   },
   "outputs": [],
   "source": [
    "bc = DirichletBC(V, u_0, \"on_boundary\")"
   ]
  },
  {
   "cell_type": "markdown",
   "metadata": {},
   "source": [
    "donde $u_D$ es una expresión que define los valores de la solución en el contorno del dominio computacional. Dicho valor se puede determinar por una función (u objeto) definida sobre todo el dominio espacial, pero evaluada únicamente en el contorno.\n",
    "\n",
    "La clase **DirichletBC** sirve para imponer condiciones de contorno en cada espacio funcional (incógnita).\n",
    "\n",
    "Define que la función de la incógnita $u$ definida en el espacio $V$ debe igualarse a la expresión $u_D$ evaluada en la región \"on_boundary\".\n",
    "\n",
    "Las condiciones de contorno del tipo $u = uD$ se conocen como condiciones de Dirichlet. Para el presente método de elementos finitos para el problema de Poisson, también se denominan condiciones de contorno esenciales, ya que deben imponerse explícitamente como parte del espacio funcional de la incógnita (en contraste con las que pueden definirse implícitamente como parte de la formulación variacional). Naturalmente, la clase FEniCS utilizada para definir las condiciones de contorno de Dirichlet se denomina DirichletBC. Esa clase instancia un objeto bc que se usa más adelante para ensamblar el sistema de ecuaciones lineales.\n",
    "\n",
    "Ahora bien, la variable $u_D$ se refiere a un objeto **Expression**, que se utiliza para representar una función matemática. La construcción típica de ese tipo de objeto se da con la siguiente rutina:"
   ]
  },
  {
   "cell_type": "code",
   "execution_count": 2,
   "metadata": {},
   "outputs": [
    {
     "ename": "NameError",
     "evalue": "name 'Expression' is not defined",
     "output_type": "error",
     "traceback": [
      "\u001b[0;31m---------------------------------------------------------------------------\u001b[0m",
      "\u001b[0;31mNameError\u001b[0m                                 Traceback (most recent call last)",
      "\u001b[0;32m<ipython-input-2-0d1dd18a2360>\u001b[0m in \u001b[0;36m<module>\u001b[0;34m()\u001b[0m\n\u001b[0;32m----> 1\u001b[0;31m \u001b[0mu_0\u001b[0m \u001b[0;34m=\u001b[0m \u001b[0mExpression\u001b[0m\u001b[0;34m(\u001b[0m\u001b[0mformula\u001b[0m\u001b[0;34m,\u001b[0m \u001b[0mdegree\u001b[0m\u001b[0;34m=\u001b[0m\u001b[0;36m1\u001b[0m\u001b[0;34m)\u001b[0m\u001b[0;34m\u001b[0m\u001b[0m\n\u001b[0m",
      "\u001b[0;31mNameError\u001b[0m: name 'Expression' is not defined"
     ]
    }
   ],
   "source": [
    "u_0 = Expression(formula, degree=1)"
   ]
  },
  {
   "cell_type": "markdown",
   "metadata": {},
   "source": [
    "donde **formula** es una cadena que contiene una expresión matemática. La fórmula debe escribirse con sintaxis C ++ y se convierte automáticamente en una función C ++ compilada y eficiente.\n",
    "\n",
    "La expresión puede depender de las variables x[0] y x[1] correspondientes a las coordenadas $(x,y)$. En 3D, la expresión también puede depender de la variable x[2] correspondiente a la coordenada $z$. Este problema introductorio supone una expresión de la forma $u_D(x,y) = 1 + x2 + 2y^2$. Entonces, la expresión se puede escribir como 1 + x [0] * x [0] + 2 * x [1] * x [1]:"
   ]
  },
  {
   "cell_type": "code",
   "execution_count": null,
   "metadata": {
    "collapsed": true
   },
   "outputs": [],
   "source": [
    "u0=Expression(\"1+ x[0]*x[1] + 2*x[1]*x[1]\", degree=2)"
   ]
  },
  {
   "cell_type": "markdown",
   "metadata": {},
   "source": [
    "Establecemos el grado **degree** de la fórmula como 2 para que $u_D$ pueda representar la solución cuadrática exacta de nuestro problema de prueba.\n",
    "\n",
    "La clase **Expression** es muy flexible y sirve para crear expresiones complicadas definidas por el usuario. Funciones espaciales, temporales u otras.\n",
    "\n",
    "Por ejemplo, la fuente $f=-6$ puede ser definida como:"
   ]
  },
  {
   "cell_type": "code",
   "execution_count": null,
   "metadata": {
    "collapsed": true
   },
   "outputs": [],
   "source": [
    "f = Expression(\"-6\")"
   ]
  },
  {
   "cell_type": "markdown",
   "metadata": {},
   "source": [
    "O más eficientemente con la clase Función Constante (en espacio y tiempo):"
   ]
  },
  {
   "cell_type": "code",
   "execution_count": null,
   "metadata": {
    "collapsed": true
   },
   "outputs": [],
   "source": [
    "f = Constant(-6.0)"
   ]
  },
  {
   "cell_type": "markdown",
   "metadata": {},
   "source": [
    "Lo único que nos falta es definir la región sobre la cual se evalúa la expresión para $u_D$. Esto se realiza con el argumento \"on_boundary\". Otras opciones para determinar fácilmente la región de imposición de las condiciones de Dirichlet son:\n",
    "\n",
    "- \"on\\_boundary\"    Todo el contorno del dominio\n",
    "- \"near(x[0],0.0)\"      En la región del contorno x=0.\n",
    "- \"near(x[0],0.0) || near(x[1],1.0)\"    En la región del contorno x=0 o y=1."
   ]
  },
  {
   "cell_type": "markdown",
   "metadata": {},
   "source": [
    "### Definición del problema variacional\n",
    "\n",
    "Ahora tenemos todos los ingredientes que necesitamos para definir el problema variacional:"
   ]
  },
  {
   "cell_type": "code",
   "execution_count": null,
   "metadata": {
    "collapsed": true
   },
   "outputs": [],
   "source": [
    "a = inner(grad(u), grad(v))*dx\n",
    "L = f*v*dx"
   ]
  },
  {
   "cell_type": "markdown",
   "metadata": {},
   "source": [
    "En esencia, estas dos líneas especifican el problema EDP a resolver. Se entiende la estrecha correspondencia entre la sintaxis de Python y las fórmulas matemáticas $\\nabla u \\cdot \\nabla v dx$ y $fvdx$. Esta es una fortaleza clave de FEniCS: las fórmulas en la formulación variacional se traducen directamente a un código Python muy similar, una característica que facilita la formulación y resolución de problemas EDP complicados."
   ]
  },
  {
   "cell_type": "markdown",
   "metadata": {},
   "source": [
    "### Ensamblaje y solución del problema variacional\n",
    "\n",
    "FEniCS realiza el ensamblaje del sistema lineal (impone las condiciones de contorno) y llama a uno de los solucionadores externos (según el problema)."
   ]
  },
  {
   "cell_type": "code",
   "execution_count": 7,
   "metadata": {
    "collapsed": true
   },
   "outputs": [],
   "source": [
    "# Compute solution\n",
    "u = Function(V)\n",
    "# Solucion del sistema algebraico\n",
    "solve(a==L, u, bc)"
   ]
  },
  {
   "cell_type": "markdown",
   "metadata": {},
   "source": [
    "Se usa la función $u$ tanto como función trial como para guardar la solución que entrega el solucionador. "
   ]
  },
  {
   "cell_type": "markdown",
   "metadata": {},
   "source": [
    "## Post-procesamiento\n",
    "\n",
    "### Visualización de la solución"
   ]
  },
  {
   "cell_type": "markdown",
   "metadata": {},
   "source": [
    "Posproceso, visualización y salida de datos puede realizarse:\n",
    "- Interno: Numpy, Matplotlib, etc.\n",
    "- Externo: .pvd, .xml, .xdmf (reestablecer casos).\n",
    "\n",
    "Por ejemplo, para escribir un archivo que pueda ser visualizado en Paraview, se escriben las dos líneas siguientes:"
   ]
  },
  {
   "cell_type": "code",
   "execution_count": null,
   "metadata": {
    "collapsed": true
   },
   "outputs": [],
   "source": [
    "vtkfile = File(\"poisson_solution.pvd\")\n",
    "vtkfile << u"
   ]
  },
  {
   "cell_type": "markdown",
   "metadata": {},
   "source": [
    "Una para crear el archivo que guarda los datos.\n",
    "La otra línea para salvar la información dentro del archivo creado."
   ]
  }
 ],
 "metadata": {
  "kernelspec": {
   "display_name": "Python 3",
   "language": "python",
   "name": "python3"
  },
  "language_info": {
   "codemirror_mode": {
    "name": "ipython",
    "version": 3
   },
   "file_extension": ".py",
   "mimetype": "text/x-python",
   "name": "python",
   "nbconvert_exporter": "python",
   "pygments_lexer": "ipython3",
   "version": "3.7.4"
  },
  "latex_envs": {
   "LaTeX_envs_menu_present": true,
   "autocomplete": true,
   "bibliofile": "",
   "cite_by": "apalike",
   "current_citInitial": 1,
   "eqLabelWithNumbers": true,
   "eqNumInitial": 1,
   "hotkeys": {
    "equation": "Ctrl-E",
    "itemize": "Ctrl-I"
   },
   "labels_anchors": false,
   "latex_user_defs": false,
   "report_style_numbering": false,
   "user_envs_cfg": true
  }
 },
 "nbformat": 4,
 "nbformat_minor": 2
}
